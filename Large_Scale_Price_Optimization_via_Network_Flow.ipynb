{
  "nbformat": 4,
  "nbformat_minor": 0,
  "metadata": {
    "colab": {
      "provenance": [],
      "authorship_tag": "ABX9TyO/lUvZ/FvHu/vriNTCzxPS",
      "include_colab_link": true
    },
    "kernelspec": {
      "name": "python3",
      "display_name": "Python 3"
    },
    "language_info": {
      "name": "python"
    }
  },
  "cells": [
    {
      "cell_type": "markdown",
      "metadata": {
        "id": "view-in-github",
        "colab_type": "text"
      },
      "source": [
        "<a href=\"https://colab.research.google.com/github/GithubofRuZhang/Robust-Princing-Optimization/blob/main/Large_Scale_Price_Optimization_via_Network_Flow.ipynb\" target=\"_parent\"><img src=\"https://colab.research.google.com/assets/colab-badge.svg\" alt=\"Open In Colab\"/></a>"
      ]
    },
    {
      "cell_type": "code",
      "execution_count": null,
      "metadata": {
        "id": "qASc4BfTINnw"
      },
      "outputs": [],
      "source": [
        "import numpy as np\n",
        "import networkx as nx\n",
        "\n",
        "def construct_graph_and_compute_min_cut(A, b, C):\n",
        "    \"\"\"\n",
        "    使用networkx构建加权有向图并计算最小s-t割。\n",
        "    \"\"\"\n",
        "    n = A.shape[0]\n",
        "    G = nx.DiGraph()\n",
        "\n",
        "    G.add_node('s')\n",
        "    G.add_node('t')\n",
        "    for i in range(1, n+1):\n",
        "        G.add_node(i)\n",
        "\n",
        "    for i in range(n):\n",
        "        for j in range(n):\n",
        "            if A[i, j] < 0:  # 确保添加的边权重为正值\n",
        "                G.add_edge(i+1, j+1, capacity=-A[i, j])\n",
        "        G.add_edge('s', i+1, capacity=max(b[i], 0))\n",
        "        G.add_edge(i+1, 't', capacity=max(-b[i], 0))\n",
        "\n",
        "    for u, v in C:\n",
        "        G.add_edge(u, v, capacity=float('inf'))\n",
        "\n",
        "    cut_value, (reachable, non_reachable) = nx.minimum_cut(G, 's', 't')\n",
        "\n",
        "    x_star = np.zeros(n)\n",
        "    for i in range(1, n+1):\n",
        "        if i in reachable:\n",
        "            x_star[i-1] = 1\n",
        "\n",
        "    return x_star\n",
        "\n",
        "def iterative_relaxation_algorithm(A, b, C):\n",
        "    n = A.shape[0]\n",
        "    Gamma_t = np.ones((n, n)) / 2\n",
        "    min_value = np.inf\n",
        "    psi = -np.inf\n",
        "\n",
        "    for t in range(1, 100):  # 迭代次数上限，实际应用中可根据需要调整\n",
        "        x_t = construct_graph_and_compute_min_cut(A, b, C)\n",
        "\n",
        "        value_t = x_t.T @ A @ x_t + b.T @ x_t\n",
        "        A_plus = np.linalg.pinv(A)\n",
        "        h_Gamma_t = x_t.T @ (A_plus * Gamma_t) @ np.ones(n) + np.ones(n).T @ (A_plus * Gamma_t) @ x_t - np.ones(n).T @ (A_plus * Gamma_t) @ np.ones(n)\n",
        "        psi_t = x_t.T @ A_plus @ x_t + b.T @ x_t + h_Gamma_t\n",
        "        psi = max(psi, psi_t)\n",
        "\n",
        "        if value_t < min_value:\n",
        "            min_value = value_t\n",
        "            x_hat = x_t\n",
        "\n",
        "        S_t = A_plus * (np.outer(np.ones(n), np.ones(n)) - np.outer(x_t, np.ones(n)) - np.outer(np.ones(n), x_t))\n",
        "        eta_t = 0.01  # 学习率，需要根据具体问题进行调整\n",
        "        Gamma_t_next = np.clip(Gamma_t - eta_t * S_t, 0, 1)\n",
        "\n",
        "        if np.linalg.norm(Gamma_t_next - Gamma_t, 'fro') < 1e-4:  # 收敛判断\n",
        "            break\n",
        "\n",
        "        Gamma_t = Gamma_t_next\n",
        "\n",
        "    return x_hat, min_value, psi\n",
        "\n",
        "\n"
      ]
    },
    {
      "cell_type": "markdown",
      "source": [
        "### 问题实例\n",
        "\n",
        "假设我们面对的是一个二次规划问题，目标是最小化下列目标函数，同时满足二进制决策变量和特定的序列约束：\n",
        "\n",
        "- **目标函数**:\n",
        "    $$\n",
        "    \\text{Minimize } \\mathbf{x}^{\\top} A \\mathbf{x} + \\mathbf{b}^{\\top} \\mathbf{x}\n",
        "    $$\n",
        "    其中，$A$ 是一个 $3 \\times 3$ 矩阵，$b$ 是一个长度为 3 的向量。\n",
        "\n",
        "- **约束**:\n",
        "    - $x_i \\in \\{0, 1\\}$ 对于所有 $i$。\n",
        "    - $x_1 \\leq x_2$, $x_2 \\leq x_3$，即 $C$ 包含边缘 $(1, 2)$ 和 $(2, 3)$。\n",
        "\n",
        "### 实现\n",
        "\n",
        "首先，我们定义 $A$, $b$, 和 $C$：\n",
        "\n",
        "```python\n",
        "import numpy as np\n",
        "\n",
        "# 定义矩阵A和向量b\n",
        "A = np.array([[-1, 0, 0], [0, -2, 0], [0, 0, -3]])\n",
        "b = np.array([1, 2, 3])\n",
        "\n",
        "# 定义约束集合C\n",
        "C = [(1, 2), (2, 3)]\n"
      ],
      "metadata": {
        "id": "xVyWs9sgKAWN"
      }
    },
    {
      "cell_type": "code",
      "source": [
        "# 示例问题实例\n",
        "import numpy as np\n",
        "\n",
        "# 定义矩阵A和向量b\n",
        "A = np.array([[-1, 0, 0], [0, -2, 0], [0, 0, -3]])\n",
        "b = np.array([1, 2, 3])\n",
        "\n",
        "# 定义约束集合C\n",
        "C = [(1, 2), (2, 3)]\n",
        "\n",
        "\n",
        "x_hat, min_value, psi = iterative_relaxation_algorithm(A, b, C)\n",
        "\n",
        "print(\"Approximate solution x_hat:\", x_hat)\n",
        "print(\"Minimum value:\", min_value)\n",
        "print(\"Lower bound psi:\", psi)"
      ],
      "metadata": {
        "colab": {
          "base_uri": "https://localhost:8080/"
        },
        "id": "JYpFo2lbJmH7",
        "outputId": "ee8a56a7-8fbc-4ead-b6dc-8e1bf99d9349"
      },
      "execution_count": null,
      "outputs": [
        {
          "output_type": "stream",
          "name": "stdout",
          "text": [
            "Approximate solution x_hat: [1. 1. 1.]\n",
            "Minimum value: 0.0\n",
            "Lower bound psi: 4.10388888888889\n"
          ]
        }
      ]
    },
    {
      "cell_type": "code",
      "source": [],
      "metadata": {
        "id": "fYtv4NVdNdQS"
      },
      "execution_count": null,
      "outputs": []
    }
  ]
}