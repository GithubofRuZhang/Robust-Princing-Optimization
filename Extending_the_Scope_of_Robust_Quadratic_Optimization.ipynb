{
  "nbformat": 4,
  "nbformat_minor": 0,
  "metadata": {
    "colab": {
      "provenance": [],
      "authorship_tag": "ABX9TyNkjF+/QH3OvWQUncjZaFyD",
      "include_colab_link": true
    },
    "kernelspec": {
      "name": "python3",
      "display_name": "Python 3"
    },
    "language_info": {
      "name": "python"
    }
  },
  "cells": [
    {
      "cell_type": "markdown",
      "metadata": {
        "id": "view-in-github",
        "colab_type": "text"
      },
      "source": [
        "<a href=\"https://colab.research.google.com/github/GithubofRuZhang/Robust-Princing-Optimization/blob/main/Extending_the_Scope_of_Robust_Quadratic_Optimization.ipynb\" target=\"_parent\"><img src=\"https://colab.research.google.com/assets/colab-badge.svg\" alt=\"Open In Colab\"/></a>"
      ]
    },
    {
      "cell_type": "markdown",
      "source": [
        "#Extending the Scope of Robust Quadratic Optimization"
      ],
      "metadata": {
        "id": "whFeBbIKtDsi"
      }
    },
    {
      "cell_type": "markdown",
      "source": [
        "## Semidefinite program\n",
        "A semidefinite program (SDP) is an optimization problem of the form\n",
        "$$\n",
        "\\begin{array}{ll}\n",
        "\\operatorname{minimize} & \\operatorname{tr}(C X) \\\\\n",
        "\\text { subject to } & \\operatorname{tr}\\left(A_i X\\right)=b_i, \\quad i=1, \\ldots, p \\\\\n",
        "& X \\succeq 0,\n",
        "\\end{array}\n",
        "$$\n",
        "where $\\operatorname{tr}$ is the trace function, $X \\in \\mathcal{S}^n$ is the optimization variable and $C, A_1, \\ldots, A_p \\in \\mathcal{S}^n$, and $b_1, \\ldots, b_p \\in \\mathcal{R}$ are problem data, and $X \\succeq 0$ is a matrix inequality. Here $\\mathcal{S}^n$ denotes the set of $n$-by- $n$ symmetric matrices."
      ],
      "metadata": {
        "id": "IODe13U3uxaZ"
      }
    },
    {
      "cell_type": "markdown",
      "source": [
        "### Example"
      ],
      "metadata": {
        "id": "IqMpfoxHVs0y"
      }
    },
    {
      "cell_type": "code",
      "source": [
        "# Import packages.\n",
        "import cvxpy as cp\n",
        "import numpy as np\n",
        "\n",
        "# Generate a random SDP.\n",
        "n = 3\n",
        "p = 3\n",
        "np.random.seed(1)\n",
        "C = np.random.randn(n, n)\n",
        "A = []\n",
        "b = []\n",
        "for i in range(p):\n",
        "    A.append(np.random.randn(n, n))\n",
        "    b.append(np.random.randn())\n",
        "\n",
        "# Define and solve the CVXPY problem.\n",
        "# Create a symmetric matrix variable.\n",
        "X = cp.Variable((n,n), symmetric=True)\n",
        "# The operator >> denotes matrix inequality.\n",
        "constraints = [X >> 0]\n",
        "constraints += [\n",
        "    cp.trace(A[i] @ X) == b[i] for i in range(p)\n",
        "]\n",
        "prob = cp.Problem(cp.Minimize(cp.trace(C @ X)),\n",
        "                  constraints)\n",
        "prob.solve()\n",
        "\n",
        "# Print result.\n",
        "print(\"The optimal value is\", prob.value)\n",
        "print(\"A solution X is\")\n",
        "print(X.value)"
      ],
      "metadata": {
        "colab": {
          "base_uri": "https://localhost:8080/"
        },
        "id": "GxJrII3XtE4-",
        "outputId": "4b8294dd-25db-4fd1-bc69-fc4a39e87250"
      },
      "execution_count": 6,
      "outputs": [
        {
          "output_type": "stream",
          "name": "stdout",
          "text": [
            "The optimal value is 2.654347058555728\n",
            "A solution X is\n",
            "[[ 1.60805504 -0.59770125 -0.69575821]\n",
            " [-0.59770125  0.22228555  0.24689067]\n",
            " [-0.69575821  0.24689067  1.39679134]]\n"
          ]
        }
      ]
    },
    {
      "cell_type": "markdown",
      "source": [
        "### Robust Price Optimization\n",
        "\n",
        "$\\max _{x \\in \\mathcal{X}} \\min _{A \\in \\mathcal{C}_\\lambda} x^{\\top} A v(x) \\Leftrightarrow \\min _{x \\in \\mathcal{X}} \\max _{Q \\in \\mathcal{C}_\\lambda^{\\prime}} v(x)^{\\top} Q v(x)$,\n",
        "\n",
        "where, $\\mathbb{C}_\\lambda^{\\prime}:=\\left\\{Q=\\hat{Q}+ U , \\quad\\|U\\|_F \\leq \\lambda\\right\\}$.\n",
        "\n",
        "$\\begin{aligned} & \\min _{x \\in \\chi} \\operatorname{tr}(\\hat{Q} W)+\\lambda\\|W\\|_F \\\\\n",
        " & \\begin{array}{l}x \\in X \\\\\n",
        "W \\in \\mathbb{R}^{N \\times N}\\end{array}\\left[\\begin{array}{cc}W & {\\left[x, 1]^{\\top}\\right.} \\\\\n",
        "{[x, 1]} & 1\\end{array}\\right] \\succeq O_{(N+1) \\times \\left(N+1\\right)} \\\\ & \\end{aligned}$"
      ],
      "metadata": {
        "id": "eNxQwfEGygno"
      }
    },
    {
      "cell_type": "code",
      "source": [
        "import cvxpy as cp\n",
        "import numpy as np\n",
        "\n",
        "# Problem data\n",
        "N = 3  # Dimension of the matrix W and vector x (with last element being 1)\n",
        "P = 10  # Weight of the Frobenius norm term in the objective function\n",
        "# Generate a random positive definite matrix for Q_hat\n",
        "B = np.random.randn(N, N)\n",
        "Q_hat = B.T @ B  # This guarantees Q_hat to be positive definite\n",
        "\n",
        "# Define variables\n",
        "W = cp.Variable((N, N), symmetric=True)  # Symmetric matrix variable W\n",
        "x = cp.Variable(N-1)  # Vector variable x (without the last element)\n",
        "\n",
        "# Construct the vector [x1,...,xN-1,1] where the last element is fixed at 1\n",
        "x_complete = cp.hstack([x, np.array([1])])\n",
        "\n",
        "# Reshape x_complete to be a column vector for concatenation\n",
        "x_column = cp.reshape(x_complete, (N, 1))\n",
        "\n",
        "# The matrix we need to be positive semidefinite\n",
        "# has W in the top-left corner, and x_complete as the last column and last row.\n",
        "# A = cp.bmat([\n",
        "#     [W, x_column.T],\n",
        "#     [x_column, 1]\n",
        "# ])\n",
        "A = cp.vstack([cp.hstack([W, cp.reshape(x_complete, (N, 1))]),\n",
        "               cp.hstack([cp.reshape(x_complete, (1, N)), np.array([[1]])])])\n",
        "# Define the objective function\n",
        "objective = cp.Minimize(cp.trace(Q_hat @ W) + P * cp.norm(W, \"fro\"))\n",
        "\n",
        "# Define the constraints\n",
        "constraints = [A >> 0]  # The augmented matrix must be positive semidefinite\n",
        "\n",
        "# Additional constraints for x can be added here if necessary\n",
        "# For example, if x elements are non-negative\n",
        "# marginal cost as the lower bounds for the price vector\n",
        "c=10\n",
        "constraints += [x >= c]\n",
        "\n",
        "# Define and solve the problem\n",
        "prob = cp.Problem(objective, constraints)\n",
        "prob.solve()\n",
        "\n",
        "# Print the results\n",
        "print(\"The optimal value is\", prob.value)\n",
        "print(\"A solution W is\")\n",
        "print(W.value)\n",
        "print(\"A solution x is\")\n",
        "print(x_complete.value[:N-1])  # This will print x with the last element being 1\n"
      ],
      "metadata": {
        "colab": {
          "base_uri": "https://localhost:8080/"
        },
        "id": "TkZPYbClvuEn",
        "outputId": "2df0048c-40c3-462d-f634-213ec332daba"
      },
      "execution_count": 26,
      "outputs": [
        {
          "output_type": "stream",
          "name": "stdout",
          "text": [
            "The optimal value is 2564.787906082474\n",
            "A solution W is\n",
            "[[ 99.99976044  99.99995702   9.99956856]\n",
            " [ 99.99995702 100.00016011   9.99958224]\n",
            " [  9.99956856   9.99958224   0.99992331]]\n",
            "A solution x is\n",
            "[10.00000819 10.00001973]\n"
          ]
        }
      ]
    },
    {
      "cell_type": "markdown",
      "source": [
        "## Second-order cone program\n",
        "A second-order cone program (SOCP) is an optimization problem of the form\n",
        "$$\n",
        "\\begin{array}{ll}\n",
        "\\operatorname{minimize} & f^T x \\\\\n",
        "\\text { subject to } & \\left\\|A_i x+b_i\\right\\|_2 \\leq c_i^T x+d_i, \\quad i=1, \\ldots, m \\\\\n",
        "& F x=g,\n",
        "\\end{array}\n",
        "$$\n",
        "where $x \\in \\mathcal{R}^n$ is the optimization variable and $f \\in \\mathcal{R}^n, A_i \\in \\mathcal{R}^{n_i \\times n}, b_i \\in \\mathcal{R}^{n_i}, c_i \\in \\mathcal{R}^n$, $d_i \\in \\mathcal{R}, F \\in \\mathcal{R}^{p \\times n}$, and $g \\in \\mathcal{R}^p$ are problem data.\n"
      ],
      "metadata": {
        "id": "ZIX83mNYVciU"
      }
    },
    {
      "cell_type": "markdown",
      "source": [
        "### Example\n",
        "An example of an SOCP is the robust linear program\n",
        "$$\n",
        "\\begin{array}{ll}\n",
        "\\operatorname{minimize} & c^T x \\\\\n",
        "\\text { subject to } & \\left(a_i+u_i\\right)^T x \\leq b_i \\text { for all }\\left\\|u_i\\right\\|_2 \\leq 1, \\quad i=1, \\ldots, m\n",
        "\\end{array}\n",
        "$$\n",
        "where the problem data $a_i$ are known within an $\\ell_2$-norm ball of radius one. The robust linear program can be rewritten as the SOCP\n",
        "$$\n",
        "\\begin{array}{ll}\n",
        "\\operatorname{minimize} & c^T x \\\\\n",
        "\\text { subject to } & a_i^T x+\\|x\\|_2 \\leq b_i, \\quad i=1, \\ldots, m,\n",
        "\\end{array}\n",
        "$$\n",
        "\n",
        "When we solve a SOCP, in addition to a solution $x^{\\star}$, we obtain a dual solution $\\lambda_i^{\\star}$ corresponding to each second-order cone constraint. A non-zero $\\lambda_i^{\\star}$ indicates that the constraint $\\left\\|A_i x+b_i\\right\\|_2 \\leq c_i^T x+d_i$ holds with equality for $x^{\\star}$ and suggests that changing $d_i$ would change the optimal value."
      ],
      "metadata": {
        "id": "J2JnZLG4V1mF"
      }
    },
    {
      "cell_type": "code",
      "source": [
        "# Import packages.\n",
        "import cvxpy as cp\n",
        "import numpy as np\n",
        "\n",
        "# Generate a random feasible SOCP.\n",
        "m = 3\n",
        "n = 10\n",
        "p = 5\n",
        "n_i = 5\n",
        "np.random.seed(2)\n",
        "f = np.random.randn(n)\n",
        "A = []\n",
        "b = []\n",
        "c = []\n",
        "d = []\n",
        "x0 = np.random.randn(n)\n",
        "for i in range(m):\n",
        "    A.append(np.random.randn(n_i, n))\n",
        "    b.append(np.random.randn(n_i))\n",
        "    c.append(np.random.randn(n))\n",
        "    d.append(np.linalg.norm(A[i] @ x0 + b, 2) - c[i].T @ x0)\n",
        "F = np.random.randn(p, n)\n",
        "g = F @ x0\n",
        "\n",
        "# Define and solve the CVXPY problem.\n",
        "x = cp.Variable(n)\n",
        "# We use cp.SOC(t, x) to create the SOC constraint ||x||_2 <= t.\n",
        "soc_constraints = [\n",
        "      cp.SOC(c[i].T @ x + d[i], A[i] @ x + b[i]) for i in range(m)\n",
        "]\n",
        "prob = cp.Problem(cp.Minimize(f.T@x),\n",
        "                  soc_constraints + [F @ x == g])\n",
        "prob.solve()\n",
        "\n",
        "# Print result.\n",
        "print(\"The optimal value is\", prob.value)\n",
        "print(\"A solution x is\")\n",
        "print(x.value)\n",
        "for i in range(m):\n",
        "    print(\"SOC constraint %i dual variable solution\" % i)\n",
        "    print(soc_constraints[i].dual_value)"
      ],
      "metadata": {
        "colab": {
          "base_uri": "https://localhost:8080/"
        },
        "id": "eYoloN0Zwghn",
        "outputId": "0b8f7aba-ae59-4e6a-babc-e43b48dad9f3"
      },
      "execution_count": 27,
      "outputs": [
        {
          "output_type": "stream",
          "name": "stdout",
          "text": [
            "The optimal value is -9.582695716266382\n",
            "A solution x is\n",
            "[ 1.40303325  2.4194569   1.69146656 -0.26922215  1.30825472 -0.70834842\n",
            "  0.19313706  1.64153496  0.47698583  0.66581033]\n",
            "SOC constraint 0 dual variable solution\n",
            "[array([0.61662526]), array([[ 0.35370661],\n",
            "       [-0.02327185],\n",
            "       [ 0.04253095],\n",
            "       [ 0.06243588],\n",
            "       [ 0.49886837]])]\n",
            "SOC constraint 1 dual variable solution\n",
            "[array([0.35283078]), array([[-0.14301082],\n",
            "       [ 0.16539699],\n",
            "       [-0.22027817],\n",
            "       [ 0.15440264],\n",
            "       [ 0.06571645]])]\n",
            "SOC constraint 2 dual variable solution\n",
            "[array([0.86510445]), array([[-0.114638  ],\n",
            "       [-0.449291  ],\n",
            "       [ 0.37810251],\n",
            "       [-0.6144058 ],\n",
            "       [-0.11377797]])]\n"
          ]
        }
      ]
    },
    {
      "cell_type": "code",
      "source": [],
      "metadata": {
        "id": "b4YTVyjJWYiw"
      },
      "execution_count": null,
      "outputs": []
    }
  ]
}